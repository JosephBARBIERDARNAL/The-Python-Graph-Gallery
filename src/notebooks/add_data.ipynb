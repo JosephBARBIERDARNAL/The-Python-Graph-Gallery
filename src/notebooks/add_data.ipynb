{
 "cells": [
  {
   "cell_type": "code",
   "execution_count": 4,
   "metadata": {},
   "outputs": [],
   "source": [
    "import pandas as pd\n",
    "import numpy as np\n",
    "\n",
    "data = {\n",
    "    \"name\": [\"Mark\", \"Robert\", \"Emily\", \"Marion\", \"Nicolas\", \"Mélanie\", \"Gabriel\", \"Jean\", \"Paul\"],\n",
    "    \"value\": [90, 12, 34, 53, 98, 23, 18, 104, 2]\n",
    "}\n",
    "df = pd.DataFrame(data)\n",
    "df.sort_values(by=\"value\", inplace=True)\n",
    "df.to_csv(\"../../static/data/simple-barplot.csv\", index=False)"
   ]
  },
  {
   "cell_type": "code",
   "execution_count": 5,
   "metadata": {},
   "outputs": [],
   "source": [
    "nCol = 26\n",
    "nRow = 26\n",
    "\n",
    "alphabet = [\n",
    "    \"A\", \"B\", \"C\", \"D\", \"E\", \"F\", \"G\", \"H\", \"I\", \"J\", \"K\", \"L\", \"M\", \"N\", \n",
    "    \"O\", \"P\", \"Q\", \"R\", \"S\", \"T\", \"U\", \"V\", \"W\", \"X\", \"Y\", \"Z\"\n",
    "]\n",
    "\n",
    "def generate_noise_value(x, y):\n",
    "    scale = 100\n",
    "    return (np.sin(x / scale) + np.sin(y / scale)) * np.random.random() * np.random.random() + 0.05 * np.random.random()\n",
    "\n",
    "matrix = np.zeros((nRow, nCol))\n",
    "for x in range(nCol):\n",
    "    for y in range(nRow):\n",
    "        matrix[y, x] = generate_noise_value(x, y)\n",
    "df = pd.DataFrame(matrix, index=alphabet, columns=alphabet)\n",
    "df.to_csv(\"../../static/data/simple-heatmap.csv\")"
   ]
  },
  {
   "cell_type": "code",
   "execution_count": 6,
   "metadata": {},
   "outputs": [],
   "source": [
    "df = pd.DataFrame({\n",
    "    \"name\": [\"Mark\", \"Robert\", \"Emily\", \"Marion\", \"Nicolas\"],\n",
    "    \"value\": [90, 12, 34, 53, 58]\n",
    "})\n",
    "df.to_csv(\"../../static/data/simple-piechart.csv\", index=False)"
   ]
  },
  {
   "cell_type": "code",
   "execution_count": 7,
   "metadata": {},
   "outputs": [],
   "source": [
    "gapminder = pd.read_csv('https://raw.githubusercontent.com/holtzy/The-Python-Graph-Gallery/master/static/data/gapminderData.csv')\n",
    "df = gapminder.loc[gapminder.year == 2007]\n",
    "df.to_csv(\"../../static/data/simple-scatterplot.csv\", index=False)"
   ]
  },
  {
   "cell_type": "code",
   "execution_count": 8,
   "metadata": {},
   "outputs": [],
   "source": [
    "treemap_data = {\n",
    "    \"type\": \"node\",\n",
    "    \"name\": \"boss\",\n",
    "    \"value\": 0,\n",
    "    \"children\": [\n",
    "        {\n",
    "            \"type\": \"node\",\n",
    "            \"name\": \"Team Dataviz\",\n",
    "            \"value\": 0,\n",
    "            \"children\": [\n",
    "                {\"type\": \"leaf\", \"name\": \"Mark\", \"value\": 90},\n",
    "                {\"type\": \"leaf\", \"name\": \"Robert\", \"value\": 12},\n",
    "                {\"type\": \"leaf\", \"name\": \"Emily\", \"value\": 34},\n",
    "                {\"type\": \"leaf\", \"name\": \"Marion\", \"value\": 53},\n",
    "            ],\n",
    "        },\n",
    "        {\n",
    "            \"type\": \"node\",\n",
    "            \"name\": \"Team DevOps\",\n",
    "            \"value\": 0,\n",
    "            \"children\": [\n",
    "                {\"type\": \"leaf\", \"name\": \"Nicolas\", \"value\": 98},\n",
    "                {\"type\": \"leaf\", \"name\": \"Malki\", \"value\": 22},\n",
    "                {\"type\": \"leaf\", \"name\": \"Djé\", \"value\": 12},\n",
    "            ],\n",
    "        },\n",
    "        {\n",
    "            \"type\": \"node\",\n",
    "            \"name\": \"Team Sales\",\n",
    "            \"value\": 0,\n",
    "            \"children\": [\n",
    "                {\"type\": \"leaf\", \"name\": \"Mélanie\", \"value\": 45},\n",
    "                {\"type\": \"leaf\", \"name\": \"Einstein\", \"value\": 76},\n",
    "            ],\n",
    "        },\n",
    "    ],\n",
    "}\n",
    "\n",
    "# Flattening the tree structure into a DataFrame\n",
    "def flatten_tree(tree, parent_name=\"\"):\n",
    "    flattened_data = []\n",
    "    if tree[\"type\"] == \"leaf\":\n",
    "        flattened_data.append({\n",
    "            \"type\": tree[\"type\"],\n",
    "            \"name\": tree[\"name\"],\n",
    "            \"value\": tree[\"value\"],\n",
    "            \"parent\": parent_name\n",
    "        })\n",
    "    else:\n",
    "        for child in tree[\"children\"]:\n",
    "            flattened_data.extend(flatten_tree(child, parent_name=tree[\"name\"]))\n",
    "    return flattened_data\n",
    "df = pd.DataFrame(flatten_tree(treemap_data))\n",
    "df.to_csv(\"../../static/data/simple-treemap.csv\", index=False)"
   ]
  },
  {
   "cell_type": "code",
   "execution_count": 9,
   "metadata": {},
   "outputs": [
    {
     "name": "stderr",
     "output_type": "stream",
     "text": [
      "/var/folders/m2/jfzxyg4s0xz3jyw5f94r7tcm0000gn/T/ipykernel_73178/1033455323.py:2: FutureWarning: The geopandas.dataset module is deprecated and will be removed in GeoPandas 1.0. You can get the original 'naturalearth_lowres' data from https://www.naturalearthdata.com/downloads/110m-cultural-vectors/.\n",
      "  data = gpd.read_file(gpd.datasets.get_path('naturalearth_lowres'))\n"
     ]
    }
   ],
   "source": [
    "import geopandas as gpd\n",
    "data = gpd.read_file(gpd.datasets.get_path('naturalearth_lowres'))\n",
    "data = data[['name', 'geometry']]\n",
    "data = data[~data['name'].isin(['Fr. S. Antarctic Lands', 'Antarctica'])]\n",
    "data = data.to_crs(epsg=3857)\n",
    "data.to_file('../../static/data/world.geojson', driver='GeoJSON')"
   ]
  },
  {
   "cell_type": "code",
   "execution_count": 10,
   "metadata": {},
   "outputs": [],
   "source": [
    "from scipy.interpolate import interp1d\n",
    "\n",
    "df = pd.DataFrame({\n",
    "    \"x\": [1, 2, 3, 4, 5, 6, 7, 8, 9, 10],\n",
    "    \"groupA\": [38, 16, 164, 32, 12, 12, 12, 12, 190, 10],\n",
    "    \"groupB\": [19, 14, 96, 65, 80, 180, 70, 30, 18, 18],\n",
    "    \"groupC\": [9, 96, 64, 64, 14, 14, 14, 24, 34, 4],\n",
    "    \"groupD\": [4, 40, 40, 40, 10, 10, 10, 10, 10, 10]\n",
    "})\n",
    "x = df['x'].values\n",
    "groupA = df['groupA'].values\n",
    "groupB = df['groupB'].values\n",
    "groupC = df['groupC'].values\n",
    "groupD = df['groupD'].values\n",
    "\n",
    "# interpolate the data\n",
    "f = interp1d(x, groupA, kind='cubic')\n",
    "x_new = np.linspace(1, 10, 80)\n",
    "groupA = f(x_new)\n",
    "f = interp1d(x, groupB, kind='cubic')\n",
    "groupB = f(x_new)\n",
    "f = interp1d(x, groupC, kind='cubic')\n",
    "groupC = f(x_new)\n",
    "f = interp1d(x, groupD, kind='cubic')\n",
    "groupD = f(x_new)\n",
    "\n",
    "df = pd.DataFrame({\n",
    "      \"x\": x_new,\n",
    "      \"groupA\": groupA,\n",
    "      \"groupB\": groupB,\n",
    "      \"groupC\": groupC,\n",
    "      \"groupD\": groupD\n",
    "   })\n",
    "df.to_csv(\"../../static/data/simple-streamchart.csv\", index=False)"
   ]
  }
 ],
 "metadata": {
  "kernelspec": {
   "display_name": "venv",
   "language": "python",
   "name": "python3"
  },
  "language_info": {
   "codemirror_mode": {
    "name": "ipython",
    "version": 3
   },
   "file_extension": ".py",
   "mimetype": "text/x-python",
   "name": "python",
   "nbconvert_exporter": "python",
   "pygments_lexer": "ipython3",
   "version": "3.10.13"
  },
  "orig_nbformat": 4
 },
 "nbformat": 4,
 "nbformat_minor": 2
}
